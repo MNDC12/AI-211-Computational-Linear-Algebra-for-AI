{
 "cells": [
  {
   "cell_type": "markdown",
   "metadata": {},
   "source": [
    "### Objective:\n",
    "Calculate \\(U\\), \\(\\Sigma\\) and \\(V^T\\) of any matrix A using Golub Kahan for the tridiagonals and Golub-Reinsch for the bidiagonals. "
   ]
  },
  {
   "cell_type": "code",
   "execution_count": 12,
   "metadata": {},
   "outputs": [],
   "source": [
    "import numpy as np"
   ]
  },
  {
   "cell_type": "code",
   "execution_count": 13,
   "metadata": {},
   "outputs": [],
   "source": [
    "\n",
    "def Householder(x, i):\n",
    "    alpha = -np.copysign(np.linalg.norm(x), x[i])\n",
    "    v = x.copy()\n",
    "    v[i] -= alpha\n",
    "    v /= np.linalg.norm(v)\n",
    "    return np.eye(len(x)) - 2 * np.outer(v, v)\n"
   ]
  },
  {
   "cell_type": "code",
   "execution_count": 14,
   "metadata": {},
   "outputs": [],
   "source": [
    "def Bidiag(X):\n",
    "    J = X.copy()\n",
    "    n, m = J.shape\n",
    "\n",
    "    for i in range(m - 2):\n",
    "        # column\n",
    "        h = np.zeros(n)\n",
    "        h[i:] = J[i:, i]\n",
    "        P = Householder(h, i)\n",
    "        J = P @ J\n",
    "        J = np.where(np.abs(J) < 9e-15, 0, J)\n",
    "        print(J, '\\n')\n",
    "\n",
    "        # row\n",
    "        h = np.zeros(m)\n",
    "        h[i+1:] = J[i, i+1:] \n",
    "        Q = Householder(h, i+1)\n",
    "        J = J @ Q\n",
    "        J = np.where(np.abs(J) < 9e-15, 0, J)\n",
    "        print(J, '\\n')\n",
    "        \n",
    "    return J"
   ]
  },
  {
   "cell_type": "code",
   "execution_count": 15,
   "metadata": {},
   "outputs": [],
   "source": [
    "\n",
    "A = np.array([[3, 2, 1, 4, 2],\n",
    "             [2, 3, 1, 0, 5], \n",
    "             [1, 2, 5, 4, 3], \n",
    "             [4, 2, 0, 2, 9]], dtype=float)"
   ]
  },
  {
   "cell_type": "code",
   "execution_count": 17,
   "metadata": {},
   "outputs": [
    {
     "name": "stdout",
     "output_type": "stream",
     "text": [
      "[[ -5.47722558  -4.01663209  -1.82574186  -4.38178046 -10.04158022]\n",
      " [  0.           1.58051858   0.33333333  -1.97748199   2.15907519]\n",
      " [  0.           1.29025929   4.66666667   3.011259     1.5795376 ]\n",
      " [  0.          -0.83896284  -1.33333333  -1.95496398   3.31815038]] \n",
      "\n",
      "[[-5.47722558 11.81101181  0.          0.          0.        ]\n",
      " [ 0.         -1.69101322 -0.04404264 -2.88318433  0.08350733]\n",
      " [ 0.         -3.620211    4.10023674  1.65182718 -1.53582699]\n",
      " [ 0.         -1.60436066 -1.42162309 -2.1668594   2.83255671]] \n",
      "\n",
      "[[-5.47722558 11.81101181  0.          0.          0.        ]\n",
      " [ 0.          4.30574343 -2.9004165   0.5508837   0.20306905]\n",
      " [ 0.          0.          2.3758586   3.72495631 -1.4636482 ]\n",
      " [ 0.          0.         -2.18581182 -1.24811549  2.86454402]] \n",
      "\n",
      "[[-5.47722558 11.81101181  0.          0.          0.        ]\n",
      " [ 0.          4.30574343  2.95924412  0.          0.        ]\n",
      " [ 0.          0.         -1.73564033  4.11149025 -1.32116245]\n",
      " [ 0.          0.          2.10658471 -1.65165615  2.71578918]] \n",
      "\n",
      "[[-5.47722558 11.81101181  0.          0.          0.        ]\n",
      " [ 0.          4.30574343  2.95924412  0.          0.        ]\n",
      " [ 0.          0.          2.72949565 -3.88915142  2.93611122]\n",
      " [ 0.          0.          0.          2.12292754  0.70727082]] \n",
      "\n",
      "[[-5.47722558 11.81101181  0.          0.          0.        ]\n",
      " [ 0.          4.30574343  2.95924412  0.          0.        ]\n",
      " [ 0.          0.          2.72949565  4.8730122   0.        ]\n",
      " [ 0.          0.          0.         -1.26816036  1.84358961]] \n",
      "\n"
     ]
    }
   ],
   "source": [
    "\n",
    "J = Bidiag(A)"
   ]
  },
  {
   "cell_type": "code",
   "execution_count": null,
   "metadata": {},
   "outputs": [],
   "source": []
  }
 ],
 "metadata": {
  "kernelspec": {
   "display_name": "base",
   "language": "python",
   "name": "python3"
  },
  "language_info": {
   "codemirror_mode": {
    "name": "ipython",
    "version": 3
   },
   "file_extension": ".py",
   "mimetype": "text/x-python",
   "name": "python",
   "nbconvert_exporter": "python",
   "pygments_lexer": "ipython3",
   "version": "3.10.9"
  }
 },
 "nbformat": 4,
 "nbformat_minor": 2
}
