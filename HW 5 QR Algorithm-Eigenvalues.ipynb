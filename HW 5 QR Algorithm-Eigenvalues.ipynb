{
 "cells": [
  {
   "cell_type": "markdown",
   "id": "eb2d7bc1",
   "metadata": {},
   "source": [
    "### Objective:\n",
    "Create a code that calculates all the eigenvalues of a matrix A using the QR algorithm. If the matrix A is symmetric, then include all the eigenvectors. "
   ]
  },
  {
   "cell_type": "code",
   "execution_count": 86,
   "id": "cdeddb9e",
   "metadata": {
    "scrolled": true
   },
   "outputs": [
    {
     "name": "stdout",
     "output_type": "stream",
     "text": [
      "Hessenberg Matrix:\n",
      "[[  3.  -2.  -7.   5. -12.   5.]\n",
      " [-13.  -7.   2.   6.   7.  -1.]\n",
      " [ -0. -16.  -5.  -1.   2.   9.]\n",
      " [  0.   0.  15.   2.   4.  -3.]\n",
      " [ -0.   0.  -0.  10.   1.  -0.]\n",
      " [ -0.  -0.  -0.   0. -11.  -5.]]\n",
      "Schur Matrix:\n",
      "[[-76.   7.  -4.   3. -10.  -3.]\n",
      " [ -6. -80.  -5.   7.  -5.  -7.]\n",
      " [ -2. -17. -79.  -4.  -3.   9.]\n",
      " [ -2.   3.  17. -85.   2.  -5.]\n",
      " [ -1.   2.  -2.  11. -83.   4.]\n",
      " [  2.  -2.   2.   1.  -7. -87.]]\n",
      "Eigenvalues:\n",
      "[-76.1798195  -79.66042776 -78.864164   -85.08933442 -82.88963699\n",
      " -86.77851804]\n"
     ]
    }
   ],
   "source": [
    "import numpy as np\n",
    "\n",
    "def QR(matrix, iterations = 10):\n",
    "    \n",
    "    A = np.copy(matrix)\n",
    "    row, col = np.shape(A)\n",
    "    if row != col: raise ValueError('Matrix A is not a square matrix.')\n",
    "        \n",
    "    # Hessenberg Matrix\n",
    "    for i in range(row-2):    \n",
    "        x = A[i+1:, i, None]\n",
    "        w = np.zeros_like(x)\n",
    "        w[0] = np.linalg.norm(x) * np.sign(x[0])\n",
    "        v = x + w\n",
    "        P = (v @ v.T) / (v.T @ v)[0]\n",
    "        H = np.eye(row)\n",
    "        H[i+1:,i+1:] -= 2*P \n",
    "        A  = H @ A @ H\n",
    "    print(f'Hessenberg Matrix:\\n{np.round(A,0)}')\n",
    "    \n",
    "    # Schur Matrix\n",
    "    Q = np.eye(row)\n",
    "    S = np.copy(A)\n",
    "    eigenvalues = np.zeros((row,))\n",
    "    iterate = 0\n",
    "    while iterate < iterations:\n",
    "        \n",
    "        # Wilkinson Shift\n",
    "        a, b, d, c = S[row-2:row, row-2:row].flatten()\n",
    "        l = (a-c)/2\n",
    "        sgn = -1 if l >= 0 else 1\n",
    "        k = c + sgn * (b**2) / (l + np.sqrt(l**2 + b**2))\n",
    "        S = S - np.eye(row) * k\n",
    "        \n",
    "        # Givens Rotation\n",
    "        QT = np.eye(row)\n",
    "        for i in range(row-2,-1,-1):\n",
    "            if np.abs(S[i+1, i]) < 1e-10: continue\n",
    "            a, b = S[i, i], S[i+1, i]\n",
    "            r = np.hypot(a, b)\n",
    "            cos = a / r\n",
    "            sin = b / r \n",
    "            G = np.eye(row)\n",
    "            G[i,i], G[i+1,i+1], G[i,i+1], G[i+1,i] = cos, cos, sin, -sin\n",
    "            QT = G @ QT\n",
    "                \n",
    "        R = QT @ A\n",
    "        Q = QT.T\n",
    "        S = R @ Q\n",
    "        S = S + np.eye(row) * k\n",
    "        S[abs(S) < 1e-10] = 0\n",
    "        iterate += 1\n",
    "        \n",
    "    print(f'Schur Matrix:\\n{np.round(S,0)}')\n",
    "    print(f'Eigenvalues:\\n{np.diagonal(S)}')     \n",
    "    \n",
    "A = np.array([[ 3, 7,-8,-2,10, 6],\n",
    "              [ 3,-7,-2, 4,-7, 3],\n",
    "              [-7,-8,-1,-7,-1,-7],\n",
    "              [-7,-1,-9,-9,-3, 9],\n",
    "              [-8, 4, 7, 4,-5,-10],\n",
    "              [ 2, 0, 9, 6, 8, 8]], float)\n",
    "\n",
    "QR(A) # Was not able to make it run correctly :("
   ]
  }
 ],
 "metadata": {
  "kernelspec": {
   "display_name": "Python 3 (ipykernel)",
   "language": "python",
   "name": "python3"
  },
  "language_info": {
   "codemirror_mode": {
    "name": "ipython",
    "version": 3
   },
   "file_extension": ".py",
   "mimetype": "text/x-python",
   "name": "python",
   "nbconvert_exporter": "python",
   "pygments_lexer": "ipython3",
   "version": "3.10.9"
  }
 },
 "nbformat": 4,
 "nbformat_minor": 5
}
