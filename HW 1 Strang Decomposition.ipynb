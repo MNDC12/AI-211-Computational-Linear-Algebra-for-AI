{
 "cells": [
  {
   "cell_type": "markdown",
   "id": "fadb0f99",
   "metadata": {},
   "source": [
    "### Objective:\n",
    "Create a python code that performs the A=CR decomposition of any matrix. You may only use the numpy package in your code."
   ]
  },
  {
   "cell_type": "code",
   "execution_count": 1,
   "id": "11049967",
   "metadata": {},
   "outputs": [],
   "source": [
    "import numpy as np"
   ]
  },
  {
   "cell_type": "code",
   "execution_count": 41,
   "id": "d94e1684",
   "metadata": {},
   "outputs": [],
   "source": [
    "def strang_decomposition(A):\n",
    "    '''\n",
    "    This function performs Strang Decomposition using Gaussian Elimination given matrix A.\n",
    "    '''\n",
    "    gauss = np.copy(A)\n",
    "    row, col = np.shape(gauss)\n",
    "    j = 0 # Initialize 1st column \n",
    "\n",
    "    for i in range(row):\n",
    "        \n",
    "        # Exclude row i from further processing if all its elements are zero.\n",
    "        if not np.any(gauss[i,:]):\n",
    "            continue\n",
    "        \n",
    "        # While pivot element is 0 and the rows below pivot element only has zero values, move column j to the right.\n",
    "        while np.all(gauss[i + 1:,j] == 0) and gauss[i,j] == 0 and j < col-1:\n",
    "            j += 1\n",
    "        \n",
    "        # Identify the row below pivot element that has the largest value.\n",
    "        index_max = np.argmax(gauss[i:, j]) + i\n",
    "        # Swap rows to ensure that pivot element has the largest value.  \n",
    "        gauss[[i, index_max]] = gauss[[index_max, i]]\n",
    "        print(gauss)\n",
    "        \n",
    "        # Perform row-wise division by its pivot element (i,j). This transforms pivot element to 1.\n",
    "        # (pivot row i) = (pivot row i) / (pivot element i,j) -> (pivot element i,j) = 1\n",
    "        gauss[i, :] /= gauss[i,j] \n",
    "        print(gauss)\n",
    "        \n",
    "        # Transform element (k,j) below the pivot element to 0. Each element (k,j) is at row k.\n",
    "        # row k = row k - (element k,j) * (pivot row i) -> (element k,j) = 0\n",
    "        for k in range(i+1, row): \n",
    "            gauss[k, :] -= gauss[k,j]*gauss[i,:]\n",
    "            print(gauss)\n",
    "    \n",
    "        # Transform element (k,j) above the pivot element to 0. Each element (k,j) is at row k.\n",
    "        # row k = row k - (element k,j) * (pivot row i) -> (element k,j) = 0\n",
    "        for k in range(i):\n",
    "            gauss[k, :] -= gauss[k,j]*gauss[i,:]\n",
    "            print(gauss)\n",
    "            \n",
    "    # Exclude rows that consists entirely of 0 values to obtain R matrix.\n",
    "    R = gauss[~np.all(gauss == 0, axis=1)]\n",
    "    # Locate the position of the first occurrence of 1 in each row of the R matrix.\n",
    "    index = np.argmax(R == 1, axis=1)\n",
    "    # Extract the columns corresponding to those indices to obtain C matrix.\n",
    "    C = A[:, index]\n",
    "    \n",
    "    return gauss, C, R"
   ]
  },
  {
   "cell_type": "code",
   "execution_count": 42,
   "id": "46a73613",
   "metadata": {},
   "outputs": [],
   "source": [
    "def show_matrix(A):\n",
    "    '''\n",
    "    This function shows and checks the result of the Strang Decomposition function.\n",
    "    '''\n",
    "    G, C, R = strang_decomposition(A)\n",
    "    # Multiply Matrix C and Matrix R.\n",
    "    matmul = np.matmul(C,R)\n",
    "    # Determine whether A = CR when the elements are rounded to 5 decimal places.\n",
    "    check = np.array_equal(np.matrix.round(A, decimals = 5), np.matrix.round(matmul, decimals=5))\n",
    "\n",
    "    print('Is A = CR? {}\\n'.format(check))\n",
    "    print('Matrix A:\\n{}\\n\\nGaussian Elimination Matrix:\\n{}\\n\\nMatrix C:\\n{}\\n\\nMatrix R:\\n{}\\n'.format(A, G, C, R))\n",
    "    print('Matrix Multiplication of C and R:\\n{}'.format(matmul))"
   ]
  },
  {
   "cell_type": "markdown",
   "id": "9b54ecdf",
   "metadata": {},
   "source": [
    "**Example 1:** Matrix Exercise"
   ]
  },
  {
   "cell_type": "code",
   "execution_count": 4,
   "id": "c19976fb",
   "metadata": {
    "scrolled": false
   },
   "outputs": [
    {
     "name": "stdout",
     "output_type": "stream",
     "text": [
      "Is A = CR? True\n",
      "\n",
      "Matrix A:\n",
      "[[ 1.  2.  3.  0.]\n",
      " [ 1. -1.  0. -3.]\n",
      " [-1.  1.  0.  3.]]\n",
      "\n",
      "Gaussian Elimination Matrix:\n",
      "[[ 1.  0.  1. -2.]\n",
      " [ 0.  1.  1.  1.]\n",
      " [ 0.  0.  0.  0.]]\n",
      "\n",
      "Matrix C:\n",
      "[[ 1.  2.]\n",
      " [ 1. -1.]\n",
      " [-1.  1.]]\n",
      "\n",
      "Matrix R:\n",
      "[[ 1.  0.  1. -2.]\n",
      " [ 0.  1.  1.  1.]]\n",
      "\n",
      "Matrix Multiplication of C and R:\n",
      "[[ 1.  2.  3.  0.]\n",
      " [ 1. -1.  0. -3.]\n",
      " [-1.  1.  0.  3.]]\n"
     ]
    }
   ],
   "source": [
    "A1 = np.array([[ 1,  2,  3,  0],\n",
    "               [ 1, -1,  0, -3],\n",
    "               [-1,  1,  0,  3]], float)\n",
    "show_matrix(A1)"
   ]
  },
  {
   "cell_type": "markdown",
   "id": "de929172",
   "metadata": {},
   "source": [
    "**Example 2:** Matrix with zero as a pivot element"
   ]
  },
  {
   "cell_type": "code",
   "execution_count": 43,
   "id": "d2a42ae2",
   "metadata": {},
   "outputs": [
    {
     "name": "stdout",
     "output_type": "stream",
     "text": [
      "[[ 4. 12.  1.  4.  0.  1.]\n",
      " [ 2.  6.  4.  2.  0.  1.]\n",
      " [ 1.  3.  5.  1.  0.  2.]]\n",
      "[[1.   3.   0.25 1.   0.   0.25]\n",
      " [2.   6.   4.   2.   0.   1.  ]\n",
      " [1.   3.   5.   1.   0.   2.  ]]\n",
      "[[1.   3.   0.25 1.   0.   0.25]\n",
      " [0.   0.   3.5  0.   0.   0.5 ]\n",
      " [1.   3.   5.   1.   0.   2.  ]]\n",
      "[[1.   3.   0.25 1.   0.   0.25]\n",
      " [0.   0.   3.5  0.   0.   0.5 ]\n",
      " [0.   0.   4.75 0.   0.   1.75]]\n",
      "[[1.   3.   0.25 1.   0.   0.25]\n",
      " [0.   0.   4.75 0.   0.   1.75]\n",
      " [0.   0.   3.5  0.   0.   0.5 ]]\n",
      "[[1.         3.         0.25       1.         0.         0.25      ]\n",
      " [0.         0.         1.         0.         0.         0.36842105]\n",
      " [0.         0.         3.5        0.         0.         0.5       ]]\n",
      "[[ 1.          3.          0.25        1.          0.          0.25      ]\n",
      " [ 0.          0.          1.          0.          0.          0.36842105]\n",
      " [ 0.          0.          0.          0.          0.         -0.78947368]]\n",
      "[[ 1.          3.          0.          1.          0.          0.15789474]\n",
      " [ 0.          0.          1.          0.          0.          0.36842105]\n",
      " [ 0.          0.          0.          0.          0.         -0.78947368]]\n",
      "[[ 1.          3.          0.          1.          0.          0.15789474]\n",
      " [ 0.          0.          1.          0.          0.          0.36842105]\n",
      " [ 0.          0.          0.          0.          0.         -0.78947368]]\n",
      "[[ 1.          3.          0.          1.          0.          0.15789474]\n",
      " [ 0.          0.          1.          0.          0.          0.36842105]\n",
      " [-0.         -0.         -0.         -0.         -0.          1.        ]]\n",
      "[[ 1.          3.          0.          1.          0.          0.        ]\n",
      " [ 0.          0.          1.          0.          0.          0.36842105]\n",
      " [-0.         -0.         -0.         -0.         -0.          1.        ]]\n",
      "[[ 1.  3.  0.  1.  0.  0.]\n",
      " [ 0.  0.  1.  0.  0.  0.]\n",
      " [-0. -0. -0. -0. -0.  1.]]\n",
      "Is A = CR? True\n",
      "\n",
      "Matrix A:\n",
      "[[ 1.  3.  5.  1.  0.  2.]\n",
      " [ 2.  6.  4.  2.  0.  1.]\n",
      " [ 4. 12.  1.  4.  0.  1.]]\n",
      "\n",
      "Gaussian Elimination Matrix:\n",
      "[[ 1.  3.  0.  1.  0.  0.]\n",
      " [ 0.  0.  1.  0.  0.  0.]\n",
      " [-0. -0. -0. -0. -0.  1.]]\n",
      "\n",
      "Matrix C:\n",
      "[[1. 5. 2.]\n",
      " [2. 4. 1.]\n",
      " [4. 1. 1.]]\n",
      "\n",
      "Matrix R:\n",
      "[[ 1.  3.  0.  1.  0.  0.]\n",
      " [ 0.  0.  1.  0.  0.  0.]\n",
      " [-0. -0. -0. -0. -0.  1.]]\n",
      "\n",
      "Matrix Multiplication of C and R:\n",
      "[[ 1.  3.  5.  1.  0.  2.]\n",
      " [ 2.  6.  4.  2.  0.  1.]\n",
      " [ 4. 12.  1.  4.  0.  1.]]\n"
     ]
    }
   ],
   "source": [
    "A2 = np.array([[ 1,  3,  5, 1,  0,  2],\n",
    "               [ 2,  6,  4, 2,  0,  1],\n",
    "               [ 4, 12,  1, 4,  0,  1]], float)\n",
    "show_matrix(A2)"
   ]
  },
  {
   "cell_type": "markdown",
   "id": "06ca609f",
   "metadata": {},
   "source": [
    "**Example 3:** Matrix with 0 value at 1st column and 1st row"
   ]
  },
  {
   "cell_type": "code",
   "execution_count": 35,
   "id": "f1d0cd64",
   "metadata": {
    "scrolled": false
   },
   "outputs": [
    {
     "name": "stdout",
     "output_type": "stream",
     "text": [
      "Is A = CR? True\n",
      "\n",
      "Matrix A:\n",
      "[[ 1.  0.  4.  0.]\n",
      " [ 2. -2.  1.  0.]\n",
      " [ 2. -1.  1.  1.]\n",
      " [ 5.  2.  0.  4.]]\n",
      "\n",
      "Gaussian Elimination Matrix:\n",
      "[[ 1.  0.  0.  0.]\n",
      " [ 0.  1.  0.  0.]\n",
      " [-0. -0.  1.  0.]\n",
      " [-0. -0. -0.  1.]]\n",
      "\n",
      "Matrix C:\n",
      "[[ 1.  0.  4.  0.]\n",
      " [ 2. -2.  1.  0.]\n",
      " [ 2. -1.  1.  1.]\n",
      " [ 5.  2.  0.  4.]]\n",
      "\n",
      "Matrix R:\n",
      "[[ 1.  0.  0.  0.]\n",
      " [ 0.  1.  0.  0.]\n",
      " [-0. -0.  1.  0.]\n",
      " [-0. -0. -0.  1.]]\n",
      "\n",
      "Matrix Multiplication of C and R:\n",
      "[[ 1.  0.  4.  0.]\n",
      " [ 2. -2.  1.  0.]\n",
      " [ 2. -1.  1.  1.]\n",
      " [ 5.  2.  0.  4.]]\n"
     ]
    }
   ],
   "source": [
    "A3 = np.array([[ 1,  0,  4,  0],\n",
    "               [ 2, -2,  1, 0],\n",
    "               [ 2, -1,  1, 1],\n",
    "               [ 5,  2,  0, 4]], float)\n",
    "show_matrix(A3)"
   ]
  },
  {
   "cell_type": "markdown",
   "id": "6b5eb7ec",
   "metadata": {},
   "source": [
    "### **Exercise 4:** Matrix with Random Integers (0,20) and 100x500 dimension"
   ]
  },
  {
   "cell_type": "code",
   "execution_count": 7,
   "id": "e3a39e62",
   "metadata": {
    "scrolled": false
   },
   "outputs": [
    {
     "name": "stdout",
     "output_type": "stream",
     "text": [
      "Is A = CR? True\n",
      "\n",
      "Matrix A:\n",
      "[[12.  7. 18. ... 18. 17.  4.]\n",
      " [ 3.  4. 14. ... 10.  8. 13.]\n",
      " [14.  1.  7. ... 18. 17.  9.]\n",
      " ...\n",
      " [ 0. 17. 14. ... 13.  3. 18.]\n",
      " [ 5. 19.  8. ...  0. 10. 18.]\n",
      " [10. 17.  1. ... 19. 16. 17.]]\n",
      "\n",
      "Gaussian Elimination Matrix:\n",
      "[[  1.           0.           0.         ...  -1.43140961   6.64178358\n",
      "   -4.58757788]\n",
      " [  0.           1.           0.         ...   3.65927071  -7.81485807\n",
      "    5.47035796]\n",
      " [  0.           0.           1.         ...  -2.64807503   6.41989033\n",
      "   -3.61698247]\n",
      " ...\n",
      " [  0.           0.           0.         ...   4.2890844   -6.7960423\n",
      "    6.09524797]\n",
      " [  0.           0.           0.         ...   9.26946807 -15.68940374\n",
      "   14.1760112 ]\n",
      " [  0.           0.           0.         ...   0.80683685   0.61967033\n",
      "   -1.11341938]]\n",
      "\n",
      "Matrix C:\n",
      "[[12.  7. 18. ... 15. 17. 12.]\n",
      " [ 3.  4. 14. ...  9.  9.  8.]\n",
      " [14.  1.  7. ...  9. 18. 17.]\n",
      " ...\n",
      " [ 0. 17. 14. ...  8.  4. 13.]\n",
      " [ 5. 19.  8. ...  7. 11. 11.]\n",
      " [10. 17.  1. ... 16. 15.  4.]]\n",
      "\n",
      "Matrix R:\n",
      "[[  1.           0.           0.         ...  -1.43140961   6.64178358\n",
      "   -4.58757788]\n",
      " [  0.           1.           0.         ...   3.65927071  -7.81485807\n",
      "    5.47035796]\n",
      " [  0.           0.           1.         ...  -2.64807503   6.41989033\n",
      "   -3.61698247]\n",
      " ...\n",
      " [  0.           0.           0.         ...   4.2890844   -6.7960423\n",
      "    6.09524797]\n",
      " [  0.           0.           0.         ...   9.26946807 -15.68940374\n",
      "   14.1760112 ]\n",
      " [  0.           0.           0.         ...   0.80683685   0.61967033\n",
      "   -1.11341938]]\n",
      "\n",
      "Matrix Multiplication of C and R:\n",
      "[[ 1.20000000e+01  7.00000000e+00  1.80000000e+01 ...  1.80000000e+01\n",
      "   1.70000000e+01  4.00000000e+00]\n",
      " [ 3.00000000e+00  4.00000000e+00  1.40000000e+01 ...  1.00000000e+01\n",
      "   8.00000000e+00  1.30000000e+01]\n",
      " [ 1.40000000e+01  1.00000000e+00  7.00000000e+00 ...  1.80000000e+01\n",
      "   1.70000000e+01  9.00000000e+00]\n",
      " ...\n",
      " [ 0.00000000e+00  1.70000000e+01  1.40000000e+01 ...  1.30000000e+01\n",
      "   3.00000000e+00  1.80000000e+01]\n",
      " [ 5.00000000e+00  1.90000000e+01  8.00000000e+00 ... -2.61479727e-11\n",
      "   1.00000000e+01  1.80000000e+01]\n",
      " [ 1.00000000e+01  1.70000000e+01  1.00000000e+00 ...  1.90000000e+01\n",
      "   1.60000000e+01  1.70000000e+01]]\n"
     ]
    }
   ],
   "source": [
    "Ax = np.random.randint(0, 20, (1000, 5000))\n",
    "Ax = Ax.astype(float)\n",
    "show_matrix(Ax)"
   ]
  },
  {
   "cell_type": "code",
   "execution_count": null,
   "id": "a08341ac",
   "metadata": {},
   "outputs": [],
   "source": [
    " "
   ]
  }
 ],
 "metadata": {
  "kernelspec": {
   "display_name": "Python 3 (ipykernel)",
   "language": "python",
   "name": "python3"
  },
  "language_info": {
   "codemirror_mode": {
    "name": "ipython",
    "version": 3
   },
   "file_extension": ".py",
   "mimetype": "text/x-python",
   "name": "python",
   "nbconvert_exporter": "python",
   "pygments_lexer": "ipython3",
   "version": "3.10.9"
  }
 },
 "nbformat": 4,
 "nbformat_minor": 5
}
