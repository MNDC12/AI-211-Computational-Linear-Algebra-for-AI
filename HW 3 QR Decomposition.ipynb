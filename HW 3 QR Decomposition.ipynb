{
 "cells": [
  {
   "cell_type": "markdown",
   "id": "dad6d8c7",
   "metadata": {},
   "source": [
    "### Objective:\n",
    "Create a code that does QR decomposition. where Q is an orthogonal matrix and R is an upper triangular matrix, and performs column pivoting."
   ]
  },
  {
   "cell_type": "code",
   "execution_count": 1,
   "id": "2f2229e4",
   "metadata": {},
   "outputs": [],
   "source": [
    "import numpy as np"
   ]
  },
  {
   "cell_type": "code",
   "execution_count": 2,
   "id": "cda57941",
   "metadata": {},
   "outputs": [],
   "source": [
    "def QR_decomposition(A, eps = 1e-4):\n",
    "    \n",
    "    # Initialization\n",
    "    A_ref = np.copy(A)\n",
    "    row, col = np.shape(A_ref)\n",
    "    if row > col:\n",
    "        Q = np.zeros([row, col], dtype=float)\n",
    "        R = np.zeros([col, col], dtype=float)\n",
    "    elif row < col:\n",
    "        Q = np.zeros([row, row], dtype=float)\n",
    "        R = np.zeros([row, col], dtype=float)\n",
    "    else:\n",
    "        Q = np.zeros([row, col], dtype=float)\n",
    "        R = np.zeros([row, col], dtype=float)\n",
    "    \n",
    "    P = np.diag(np.ones(col)) \n",
    "    pivot_row = 0\n",
    "    iterate = 0\n",
    "    \n",
    "    for pivot_col in range(col):\n",
    "        \n",
    "        # Column Pivoting #by magnitude based on error??\n",
    "        max_col = np.argmax(abs(A_ref[pivot_row, pivot_col:])) + pivot_col \n",
    "        if pivot_col != max_col and pivot_col < row-1:\n",
    "            P[:,[pivot_col, max_col]] = P[:,[max_col, pivot_col]]\n",
    "            R[:,[pivot_col, max_col]] = R[:,[max_col, pivot_col]]\n",
    "            A_ref[:,[pivot_col, max_col]] = A_ref[:,[max_col, pivot_col]]\n",
    "        \n",
    "        # Skips for columns with (eps,-eps)\n",
    "        while np.all(np.abs(A_ref[:, pivot_col]) < eps):\n",
    "            continue\n",
    "        \n",
    "        # QR Decomposition\n",
    "        e_vector = np.copy(A_ref[:, pivot_col]) # copy vector a to later get vector e\n",
    "        if iterate == 0: # just for 1st iteration\n",
    "            e_magnitude = np.linalg.norm(e_vector) # get magnitude of vector e\n",
    "            R[pivot_row][pivot_col] = e_magnitude\n",
    "            Q[:,pivot_col] = e_vector/e_magnitude\n",
    "            # divide vector e by its magnitude to get unit vector q => q = e/||e||\n",
    "            iterate += 1\n",
    "        else:\n",
    "            for r_row in range(pivot_row+1): \n",
    "                q_col = r_row\n",
    "                QTA = np.dot(Q[:,q_col], A_ref[:, pivot_col]) \n",
    "                # vector q transpose times vector a => (q.T)a = qdota\n",
    "                R[r_row][pivot_col] = QTA\n",
    "                e_vector -= Q[:,q_col]*QTA \n",
    "                # project vector a to vector q to get vector p => p = q(q.T)a\n",
    "                # subtract vector p from vector a to get vector e  => e = a - q(q.T)a\n",
    "            e_magnitude = np.linalg.norm(e_vector) # get magnitude of vector e\n",
    "            if pivot_col < row:\n",
    "                R[pivot_row, pivot_col] = e_magnitude \n",
    "                Q[:,pivot_col] = e_vector/e_magnitude \n",
    "                # divide vector e by its magnitude to get unit vector q => q = e/||e||\n",
    "        \n",
    "        if pivot_row < (row-1):\n",
    "            pivot_row += 1 \n",
    "            \n",
    "    return Q, R, P"
   ]
  },
  {
   "cell_type": "code",
   "execution_count": 3,
   "id": "a2cc3ec8",
   "metadata": {},
   "outputs": [],
   "source": [
    "def show_matrix(A, eps = 1e-4):\n",
    "    Q, R, P = QR_decomposition(A)\n",
    "    AmulP = np.matmul(A,P)\n",
    "    QmulR = np.matmul(Q,R)\n",
    "    QT = Q.transpose()\n",
    "    QQTA = (Q.dot(QT)).dot(A)\n",
    "    print('Is AP = QR? {}'.format(np.allclose(AmulP, QmulR, rtol=eps)))\n",
    "    print('AP:\\n{}\\nQR:\\n{}\\n'\n",
    "          .format(np.matrix.round(AmulP, decimals = 2), np.matrix.round(QmulR, decimals = 2)))\n",
    "    print('Is Matrix Q orthonormal (A = QQTA)? {}'\n",
    "          .format(np.allclose(A, QQTA, rtol=eps)))\n",
    "    print('QQTA:\\n{}\\n'\n",
    "          .format(np.matrix.round(QQTA, decimals = 2)))\n",
    "    print('Individual Matrices:\\n\\nMatrix A:\\n{}\\n\\nMatrix P:\\n{}\\n\\nMatrix Q:\\n{}\\n\\nMatrix R:\\n{}'\n",
    "          .format(np.matrix.round(A, decimals = 2), np.matrix.round(P, decimals = 2), \n",
    "                  np.matrix.round(Q, decimals = 2), np.matrix.round(R, decimals = 2)))"
   ]
  },
  {
   "cell_type": "code",
   "execution_count": 4,
   "id": "12ec7624",
   "metadata": {},
   "outputs": [],
   "source": [
    "def for_rand_matrix(row, col, iteration = 1000, eps = 1e-10):\n",
    "    eq_correct = 0\n",
    "    ortho_correct = 0\n",
    "\n",
    "    for i in range(iteration):\n",
    "        A = np.random.randn(row,col)\n",
    "\n",
    "        Q, R, P = QR_decomposition(A)\n",
    "        AmulP = np.matmul(A,P)\n",
    "        QmulR = np.matmul(Q,R)\n",
    "        QT = Q.transpose()\n",
    "        QQTA = (Q.dot(QT)).dot(A)\n",
    "\n",
    "        check_eq = np.allclose(AmulP, QmulR, rtol=eps)\n",
    "        check_ortho = np.allclose(A, QQTA, rtol=eps)\n",
    "\n",
    "        eq_correct += 1 if check_eq else 0\n",
    "        ortho_correct += 1 if check_ortho else 0\n",
    "\n",
    "    print(f'For a {row}x{col} matrix:')\n",
    "    print(f'{eq_correct} out of {iteration} iterations are AP = QR.')\n",
    "    print(f'{ortho_correct} out of {iteration} iterations are A = QQTA.')"
   ]
  },
  {
   "cell_type": "markdown",
   "id": "bf8b9d96",
   "metadata": {},
   "source": [
    "**Example 1:** row = column"
   ]
  },
  {
   "cell_type": "code",
   "execution_count": 5,
   "id": "f7f21af0",
   "metadata": {},
   "outputs": [
    {
     "name": "stdout",
     "output_type": "stream",
     "text": [
      "Is AP = QR? True\n",
      "AP:\n",
      "[[ 3.  2.  1.]\n",
      " [ 1. -1.  1.]\n",
      " [ 0.  1. -1.]]\n",
      "QR:\n",
      "[[ 3.  2.  1.]\n",
      " [ 1. -1.  1.]\n",
      " [ 0.  1. -1.]]\n",
      "\n",
      "Is Matrix Q orthonormal (A = QQTA)? True\n",
      "QQTA:\n",
      "[[ 3.  2.  1.]\n",
      " [ 1. -1.  1.]\n",
      " [-0.  1. -1.]]\n",
      "\n",
      "Individual Matrices:\n",
      "\n",
      "Matrix A:\n",
      "[[ 3.  2.  1.]\n",
      " [ 1. -1.  1.]\n",
      " [ 0.  1. -1.]]\n",
      "\n",
      "Matrix P:\n",
      "[[1. 0. 0.]\n",
      " [0. 1. 0.]\n",
      " [0. 0. 1.]]\n",
      "\n",
      "Matrix Q:\n",
      "[[ 0.95  0.27  0.17]\n",
      " [ 0.32 -0.8  -0.51]\n",
      " [ 0.    0.53 -0.85]]\n",
      "\n",
      "Matrix R:\n",
      "[[ 3.16  1.58  1.26]\n",
      " [ 0.    1.87 -1.07]\n",
      " [ 0.    0.    0.51]]\n"
     ]
    }
   ],
   "source": [
    "A1 = np.array([[ 3,  2,  1],\n",
    "               [ 1, -1,  1],\n",
    "               [ 0,  1, -1]], float)\n",
    "show_matrix(A1)"
   ]
  },
  {
   "cell_type": "markdown",
   "id": "48b8af9d",
   "metadata": {},
   "source": [
    "**Example 2:** row < column"
   ]
  },
  {
   "cell_type": "code",
   "execution_count": 6,
   "id": "b4423118",
   "metadata": {},
   "outputs": [
    {
     "name": "stdout",
     "output_type": "stream",
     "text": [
      "Is AP = QR? True\n",
      "AP:\n",
      "[[3. 2. 1.]\n",
      " [1. 4. 1.]]\n",
      "QR:\n",
      "[[3. 2. 1.]\n",
      " [1. 4. 1.]]\n",
      "\n",
      "Is Matrix Q orthonormal (A = QQTA)? True\n",
      "QQTA:\n",
      "[[3. 2. 1.]\n",
      " [1. 4. 1.]]\n",
      "\n",
      "Individual Matrices:\n",
      "\n",
      "Matrix A:\n",
      "[[3. 2. 1.]\n",
      " [1. 4. 1.]]\n",
      "\n",
      "Matrix P:\n",
      "[[1. 0. 0.]\n",
      " [0. 1. 0.]\n",
      " [0. 0. 1.]]\n",
      "\n",
      "Matrix Q:\n",
      "[[ 0.95 -0.32]\n",
      " [ 0.32  0.95]]\n",
      "\n",
      "Matrix R:\n",
      "[[3.16 3.16 1.26]\n",
      " [0.   3.16 0.63]]\n"
     ]
    }
   ],
   "source": [
    "A2 = np.array([[ 3,  2,  1],\n",
    "               [ 1, 4,  1]], float)\n",
    "show_matrix(A2)"
   ]
  },
  {
   "cell_type": "markdown",
   "id": "ef9483ae",
   "metadata": {},
   "source": [
    "**Example 3:** row > column"
   ]
  },
  {
   "cell_type": "code",
   "execution_count": 7,
   "id": "aa2a89e6",
   "metadata": {},
   "outputs": [
    {
     "name": "stdout",
     "output_type": "stream",
     "text": [
      "Is AP = QR? True\n",
      "AP:\n",
      "[[ 3.  1.]\n",
      " [ 2.  2.]\n",
      " [12.  4.]]\n",
      "QR:\n",
      "[[ 3.  1.]\n",
      " [ 2.  2.]\n",
      " [12.  4.]]\n",
      "\n",
      "Is Matrix Q orthonormal (A = QQTA)? True\n",
      "QQTA:\n",
      "[[ 1.  3.]\n",
      " [ 2.  2.]\n",
      " [ 4. 12.]]\n",
      "\n",
      "Individual Matrices:\n",
      "\n",
      "Matrix A:\n",
      "[[ 1.  3.]\n",
      " [ 2.  2.]\n",
      " [ 4. 12.]]\n",
      "\n",
      "Matrix P:\n",
      "[[0. 1.]\n",
      " [1. 0.]]\n",
      "\n",
      "Matrix Q:\n",
      "[[ 0.24 -0.04]\n",
      " [ 0.16  0.99]\n",
      " [ 0.96 -0.15]]\n",
      "\n",
      "Matrix R:\n",
      "[[12.53  4.39]\n",
      " [ 0.    1.32]]\n"
     ]
    }
   ],
   "source": [
    "A2 = np.array([[ 1,  3],\n",
    "               [ 2,  2],\n",
    "               [ 4, 12]], float)\n",
    "show_matrix(A2)"
   ]
  },
  {
   "cell_type": "markdown",
   "id": "28736911",
   "metadata": {},
   "source": [
    "**Example 4:** 0 at start"
   ]
  },
  {
   "cell_type": "code",
   "execution_count": 8,
   "id": "20ee20cf",
   "metadata": {},
   "outputs": [
    {
     "name": "stdout",
     "output_type": "stream",
     "text": [
      "Is AP = QR? True\n",
      "AP:\n",
      "[[  6.   5.   1.   0.]\n",
      " [-12.   2.  -1.   1.]\n",
      " [ 12.  -2.   5.   4.]\n",
      " [  0.   0.   3.   2.]]\n",
      "QR:\n",
      "[[  6.   5.   1.  -0.]\n",
      " [-12.   2.  -1.   1.]\n",
      " [ 12.  -2.   5.   4.]\n",
      " [  0.   0.   3.   2.]]\n",
      "\n",
      "Is Matrix Q orthonormal (A = QQTA)? True\n",
      "QQTA:\n",
      "[[ -0.   5.   6.   1.]\n",
      " [  1.   2. -12.  -1.]\n",
      " [  4.  -2.  12.   5.]\n",
      " [  2.   0.   0.   3.]]\n",
      "\n",
      "Individual Matrices:\n",
      "\n",
      "Matrix A:\n",
      "[[  0.   5.   6.   1.]\n",
      " [  1.   2. -12.  -1.]\n",
      " [  4.  -2.  12.   5.]\n",
      " [  2.   0.   0.   3.]]\n",
      "\n",
      "Matrix P:\n",
      "[[0. 0. 0. 1.]\n",
      " [0. 1. 0. 0.]\n",
      " [1. 0. 0. 0.]\n",
      " [0. 0. 1. 0.]]\n",
      "\n",
      "Matrix Q:\n",
      "[[ 0.33  0.94  0.   -0.  ]\n",
      " [-0.67  0.24  0.49  0.51]\n",
      " [ 0.67 -0.24  0.49  0.51]\n",
      " [ 0.    0.    0.73 -0.69]]\n",
      "\n",
      "Matrix R:\n",
      "[[18.   -1.    4.33  2.  ]\n",
      " [ 0.    5.66 -0.47 -0.71]\n",
      " [ 0.    0.    4.12  3.88]\n",
      " [ 0.    0.    0.    1.2 ]]\n"
     ]
    }
   ],
   "source": [
    "A4 = np.array([[ 0,  5,  6,  1],\n",
    "               [ 1,  2,-12, -1],\n",
    "               [ 4, -2, 12,  5],\n",
    "               [ 2,  0,  0,  3]], float)\n",
    "show_matrix(A4)"
   ]
  },
  {
   "cell_type": "markdown",
   "id": "c2498e51",
   "metadata": {},
   "source": [
    "**Example 5:** Random 100x100 matrix"
   ]
  },
  {
   "cell_type": "code",
   "execution_count": 9,
   "id": "82307d14",
   "metadata": {},
   "outputs": [
    {
     "name": "stdout",
     "output_type": "stream",
     "text": [
      "Is AP = QR? True\n",
      "AP:\n",
      "[[-3.37 -0.46  1.07 ... -1.1  -0.69 -1.58]\n",
      " [ 0.15 -2.69  2.23 ...  0.49 -0.61  1.26]\n",
      " [-2.68  0.99  2.83 ... -1.81  0.02 -0.41]\n",
      " ...\n",
      " [ 0.73 -0.11 -1.2  ... -0.59  0.2  -0.38]\n",
      " [ 0.12 -0.72  0.92 ... -0.54 -0.29  0.22]\n",
      " [-0.02  0.35  1.31 ... -0.57 -0.04  1.44]]\n",
      "QR:\n",
      "[[-3.37 -0.46  1.07 ... -1.1  -0.69 -1.58]\n",
      " [ 0.15 -2.69  2.23 ...  0.49 -0.61  1.26]\n",
      " [-2.68  0.99  2.83 ... -1.81  0.02 -0.41]\n",
      " ...\n",
      " [ 0.73 -0.11 -1.2  ... -0.59  0.2  -0.38]\n",
      " [ 0.12 -0.72  0.92 ... -0.54 -0.29  0.22]\n",
      " [-0.02  0.35  1.31 ... -0.57 -0.04  1.44]]\n",
      "\n",
      "Is Matrix Q orthonormal (A = QQTA)? True\n",
      "QQTA:\n",
      "[[ 0.32 -0.34 -0.65 ... -1.96 -0.58  1.88]\n",
      " [ 1.08  1.06  0.03 ...  0.34 -0.88  0.08]\n",
      " [ 0.79  1.48  0.28 ...  1.84 -1.14 -1.41]\n",
      " ...\n",
      " [-1.98 -0.05  0.91 ... -1.79 -0.69 -0.05]\n",
      " [-0.53 -1.19  0.15 ...  0.92  0.85 -0.08]\n",
      " [ 1.58  0.48  0.8  ...  0.18 -0.21  0.6 ]]\n",
      "\n",
      "Individual Matrices:\n",
      "\n",
      "Matrix A:\n",
      "[[ 0.32 -0.34 -0.65 ... -1.96 -0.58  1.88]\n",
      " [ 1.08  1.06  0.03 ...  0.34 -0.88  0.08]\n",
      " [ 0.79  1.48  0.28 ...  1.84 -1.14 -1.41]\n",
      " ...\n",
      " [-1.98 -0.05  0.91 ... -1.79 -0.69 -0.05]\n",
      " [-0.53 -1.19  0.15 ...  0.92  0.85 -0.08]\n",
      " [ 1.58  0.48  0.8  ...  0.18 -0.21  0.6 ]]\n",
      "\n",
      "Matrix P:\n",
      "[[0. 0. 0. ... 0. 0. 0.]\n",
      " [0. 0. 0. ... 0. 0. 0.]\n",
      " [0. 0. 0. ... 0. 0. 0.]\n",
      " ...\n",
      " [0. 0. 0. ... 0. 0. 0.]\n",
      " [0. 0. 0. ... 0. 0. 0.]\n",
      " [0. 0. 0. ... 0. 0. 0.]]\n",
      "\n",
      "Matrix Q:\n",
      "[[-0.3  -0.03  0.01 ... -0.1   0.08  0.2 ]\n",
      " [ 0.01 -0.27  0.21 ...  0.16  0.11  0.11]\n",
      " [-0.24  0.11  0.2  ...  0.26 -0.09  0.14]\n",
      " ...\n",
      " [ 0.07 -0.01 -0.09 ...  0.04  0.02  0.08]\n",
      " [ 0.01 -0.07  0.09 ... -0.15  0.14  0.03]\n",
      " [-0.    0.04  0.12 ... -0.15 -0.06  0.08]]\n",
      "\n",
      "Matrix R:\n",
      "[[11.18  0.4  -3.11 ...  1.22  0.84  1.11]\n",
      " [ 0.    9.96 -0.03 ... -0.25 -1.39 -1.95]\n",
      " [ 0.    0.   10.68 ...  0.46 -0.14 -0.25]\n",
      " ...\n",
      " [ 0.    0.    0.   ...  1.3   0.57  0.18]\n",
      " [ 0.    0.    0.   ...  0.    0.1   0.37]\n",
      " [ 0.    0.    0.   ...  0.    0.    2.45]]\n"
     ]
    }
   ],
   "source": [
    "Ax = np.random.randn(100,100)\n",
    "show_matrix(Ax)"
   ]
  },
  {
   "cell_type": "markdown",
   "id": "20bcda9c",
   "metadata": {},
   "source": [
    "**Example 6:** Random 100x50 matrix"
   ]
  },
  {
   "cell_type": "code",
   "execution_count": 10,
   "id": "ba9b2877",
   "metadata": {
    "scrolled": false
   },
   "outputs": [
    {
     "name": "stdout",
     "output_type": "stream",
     "text": [
      "Is AP = QR? True\n",
      "AP:\n",
      "[[ 2.38 -1.35 -0.64 ... -0.02 -0.48  0.6 ]\n",
      " [-1.01 -2.57  1.09 ...  2.48  1.24 -0.76]\n",
      " [ 1.44  0.83 -2.95 ...  0.14 -1.6   1.02]\n",
      " ...\n",
      " [-0.61  1.    1.27 ... -0.62 -0.86 -0.54]\n",
      " [-1.56 -2.09 -0.94 ...  0.35  0.11  0.01]\n",
      " [ 1.65  0.52 -0.33 ... -0.1   0.96  0.3 ]]\n",
      "QR:\n",
      "[[ 2.38 -1.35 -0.64 ... -0.02 -0.48  0.6 ]\n",
      " [-1.01 -2.57  1.09 ...  2.48  1.24 -0.76]\n",
      " [ 1.44  0.83 -2.95 ...  0.14 -1.6   1.02]\n",
      " ...\n",
      " [-0.61  1.    1.27 ... -0.62 -0.86 -0.54]\n",
      " [-1.56 -2.09 -0.94 ...  0.35  0.11  0.01]\n",
      " [ 1.65  0.52 -0.33 ... -0.1   0.96  0.3 ]]\n",
      "\n",
      "Is Matrix Q orthonormal (A = QQTA)? True\n",
      "QQTA:\n",
      "[[-0.49  0.48 -0.88 ...  0.59  0.08  0.79]\n",
      " [ 0.12 -1.49  1.12 ...  0.01  0.68 -0.22]\n",
      " [ 1.64  1.23  1.35 ... -0.39 -1.48  0.86]\n",
      " ...\n",
      " [ 0.02 -2.58 -1.33 ... -0.68 -0.14 -0.09]\n",
      " [-1.37 -0.72  2.09 ... -1.15 -0.45 -0.38]\n",
      " [-0.38 -1.56  0.11 ...  0.1  -0.5  -0.33]]\n",
      "\n",
      "Individual Matrices:\n",
      "\n",
      "Matrix A:\n",
      "[[-0.49  0.48 -0.88 ...  0.59  0.08  0.79]\n",
      " [ 0.12 -1.49  1.12 ...  0.01  0.68 -0.22]\n",
      " [ 1.64  1.23  1.35 ... -0.39 -1.48  0.86]\n",
      " ...\n",
      " [ 0.02 -2.58 -1.33 ... -0.68 -0.14 -0.09]\n",
      " [-1.37 -0.72  2.09 ... -1.15 -0.45 -0.38]\n",
      " [-0.38 -1.56  0.11 ...  0.1  -0.5  -0.33]]\n",
      "\n",
      "Matrix P:\n",
      "[[0. 0. 0. ... 0. 0. 0.]\n",
      " [0. 0. 0. ... 0. 0. 0.]\n",
      " [0. 0. 0. ... 0. 0. 0.]\n",
      " ...\n",
      " [0. 0. 0. ... 0. 0. 0.]\n",
      " [0. 0. 0. ... 0. 0. 0.]\n",
      " [0. 0. 0. ... 0. 0. 0.]]\n",
      "\n",
      "Matrix Q:\n",
      "[[ 0.26 -0.16 -0.07 ... -0.04 -0.07  0.11]\n",
      " [-0.11 -0.24  0.12 ...  0.27  0.09  0.05]\n",
      " [ 0.16  0.06 -0.3  ...  0.09 -0.14 -0.04]\n",
      " ...\n",
      " [-0.07  0.1   0.13 ... -0.07 -0.1  -0.05]\n",
      " [-0.17 -0.18 -0.07 ... -0.04  0.04  0.04]\n",
      " [ 0.18  0.03 -0.05 ...  0.08  0.05  0.02]]\n",
      "\n",
      "Matrix R:\n",
      "[[ 9.120e+00  1.180e+00  6.600e-01 ... -1.000e-02 -3.600e-01  1.470e+00]\n",
      " [ 0.000e+00  1.031e+01  3.400e-01 ... -1.530e+00 -1.000e-02  1.010e+00]\n",
      " [ 0.000e+00  0.000e+00  1.018e+01 ... -1.000e-02 -9.200e-01 -1.050e+00]\n",
      " ...\n",
      " [ 0.000e+00  0.000e+00  0.000e+00 ...  7.380e+00  1.800e-01  1.800e-01]\n",
      " [ 0.000e+00  0.000e+00  0.000e+00 ...  0.000e+00  7.030e+00 -4.800e-01]\n",
      " [ 0.000e+00  0.000e+00  0.000e+00 ...  0.000e+00  0.000e+00  6.490e+00]]\n"
     ]
    }
   ],
   "source": [
    "Ax = np.random.randn(100,50)\n",
    "show_matrix(Ax)"
   ]
  },
  {
   "cell_type": "markdown",
   "id": "b6dc0e39",
   "metadata": {},
   "source": [
    "**Example 7:** Random 50x100 matrix"
   ]
  },
  {
   "cell_type": "code",
   "execution_count": 11,
   "id": "e724a4ff",
   "metadata": {
    "scrolled": false
   },
   "outputs": [
    {
     "name": "stdout",
     "output_type": "stream",
     "text": [
      "Is AP = QR? True\n",
      "AP:\n",
      "[[ 2.79  1.05 -0.6  ... -1.14 -0.24  0.73]\n",
      " [-0.67 -3.36 -0.16 ...  1.04 -0.79 -1.16]\n",
      " [ 1.3  -1.34 -2.55 ... -0.38  1.03 -0.03]\n",
      " ...\n",
      " [-0.59 -0.81 -0.61 ... -0.72  0.15 -0.75]\n",
      " [ 0.16 -1.09 -0.62 ...  0.78 -1.07  0.38]\n",
      " [ 0.28 -0.7  -0.95 ... -2.43 -1.24  0.25]]\n",
      "QR:\n",
      "[[ 2.79  1.05 -0.6  ... -1.14 -0.24  0.73]\n",
      " [-0.67 -3.36 -0.16 ...  1.04 -0.79 -1.16]\n",
      " [ 1.3  -1.34 -2.55 ... -0.38  1.03 -0.03]\n",
      " ...\n",
      " [-0.59 -0.81 -0.61 ... -0.72  0.15 -0.75]\n",
      " [ 0.16 -1.09 -0.62 ...  0.78 -1.07  0.38]\n",
      " [ 0.28 -0.7  -0.95 ... -2.43 -1.24  0.25]]\n",
      "\n",
      "Is Matrix Q orthonormal (A = QQTA)? True\n",
      "QQTA:\n",
      "[[ 1.12 -0.22  0.66 ...  0.07  2.79 -0.63]\n",
      " [-2.72  0.48 -0.09 ... -0.02 -0.67  1.24]\n",
      " [ 0.25  0.16 -0.9  ... -0.91  1.3   1.53]\n",
      " ...\n",
      " [ 1.72 -0.83 -1.05 ... -1.02 -0.59  0.37]\n",
      " [ 2.54 -0.49  0.89 ...  0.57  0.16 -2.53]\n",
      " [ 0.78  0.49 -0.35 ... -0.61  0.28  1.24]]\n",
      "\n",
      "Individual Matrices:\n",
      "\n",
      "Matrix A:\n",
      "[[ 1.12 -0.22  0.66 ...  0.07  2.79 -0.63]\n",
      " [-2.72  0.48 -0.09 ... -0.02 -0.67  1.24]\n",
      " [ 0.25  0.16 -0.9  ... -0.91  1.3   1.53]\n",
      " ...\n",
      " [ 1.72 -0.83 -1.05 ... -1.02 -0.59  0.37]\n",
      " [ 2.54 -0.49  0.89 ...  0.57  0.16 -2.53]\n",
      " [ 0.78  0.49 -0.35 ... -0.61  0.28  1.24]]\n",
      "\n",
      "Matrix P:\n",
      "[[0. 0. 0. ... 0. 0. 0.]\n",
      " [0. 0. 0. ... 0. 0. 0.]\n",
      " [0. 0. 0. ... 0. 0. 0.]\n",
      " ...\n",
      " [0. 0. 0. ... 0. 0. 0.]\n",
      " [1. 0. 0. ... 0. 0. 0.]\n",
      " [0. 0. 0. ... 0. 0. 0.]]\n",
      "\n",
      "Matrix Q:\n",
      "[[ 0.41  0.1  -0.02 ...  0.19  0.05  0.23]\n",
      " [-0.1  -0.45 -0.04 ... -0.04 -0.1   0.12]\n",
      " [ 0.19 -0.21 -0.29 ... -0.01 -0.14 -0.12]\n",
      " ...\n",
      " [-0.09 -0.1  -0.09 ... -0.1  -0.18  0.13]\n",
      " [ 0.02 -0.15 -0.08 ... -0.01 -0.14  0.1 ]\n",
      " [ 0.04 -0.1  -0.11 ...  0.08  0.05 -0.27]]\n",
      "\n",
      "Matrix R:\n",
      "[[ 6.85  0.79 -1.08 ... -0.94 -1.6  -0.34]\n",
      " [ 0.    7.24 -0.13 ... -0.19  1.5   0.95]\n",
      " [ 0.    0.    8.16 ...  1.13  0.92  1.66]\n",
      " ...\n",
      " [ 0.    0.    0.   ...  0.65 -0.21  1.27]\n",
      " [ 0.    0.    0.   ... -1.11  0.06 -0.65]\n",
      " [ 0.    0.    0.   ...  0.34  0.57  0.04]]\n"
     ]
    }
   ],
   "source": [
    "Ax = np.random.randn(50,100)\n",
    "show_matrix(Ax)"
   ]
  },
  {
   "cell_type": "markdown",
   "id": "8c2ca150",
   "metadata": {},
   "source": [
    "**Example 8:** For loop of 5x5 matrix"
   ]
  },
  {
   "cell_type": "code",
   "execution_count": 12,
   "id": "0a799bf7",
   "metadata": {},
   "outputs": [
    {
     "name": "stdout",
     "output_type": "stream",
     "text": [
      "For a 5x5 matrix:\n",
      "1000 out of 1000 iterations are AP = QR.\n",
      "1000 out of 1000 iterations are A = QQTA.\n"
     ]
    }
   ],
   "source": [
    "for_rand_matrix(5,5)"
   ]
  },
  {
   "cell_type": "markdown",
   "id": "b6764428",
   "metadata": {},
   "source": [
    "**Example 9:** For loop of 5x10 matrix"
   ]
  },
  {
   "cell_type": "code",
   "execution_count": 13,
   "id": "d6d34ab6",
   "metadata": {},
   "outputs": [
    {
     "name": "stdout",
     "output_type": "stream",
     "text": [
      "For a 5x10 matrix:\n",
      "1000 out of 1000 iterations are AP = QR.\n",
      "1000 out of 1000 iterations are A = QQTA.\n"
     ]
    }
   ],
   "source": [
    "for_rand_matrix(5,10)"
   ]
  },
  {
   "cell_type": "markdown",
   "id": "59058e99",
   "metadata": {},
   "source": [
    "**Example 10:** For loop of 10x5 matrix"
   ]
  },
  {
   "cell_type": "code",
   "execution_count": 14,
   "id": "9cd46fe1",
   "metadata": {},
   "outputs": [
    {
     "name": "stdout",
     "output_type": "stream",
     "text": [
      "For a 10x5 matrix:\n",
      "1000 out of 1000 iterations are AP = QR.\n",
      "1000 out of 1000 iterations are A = QQTA.\n"
     ]
    }
   ],
   "source": [
    "for_rand_matrix(10,5)"
   ]
  }
 ],
 "metadata": {
  "kernelspec": {
   "display_name": "Python 3 (ipykernel)",
   "language": "python",
   "name": "python3"
  },
  "language_info": {
   "codemirror_mode": {
    "name": "ipython",
    "version": 3
   },
   "file_extension": ".py",
   "mimetype": "text/x-python",
   "name": "python",
   "nbconvert_exporter": "python",
   "pygments_lexer": "ipython3",
   "version": "3.10.9"
  }
 },
 "nbformat": 4,
 "nbformat_minor": 5
}
