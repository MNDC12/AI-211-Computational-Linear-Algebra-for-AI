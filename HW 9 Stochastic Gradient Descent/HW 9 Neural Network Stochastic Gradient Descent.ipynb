{
 "cells": [
  {
   "cell_type": "markdown",
   "id": "3d8e360d",
   "metadata": {},
   "source": [
    "Reference: https://www.geeksforgeeks.org/ml-stochastic-gradient-descent-sgd/"
   ]
  },
  {
   "cell_type": "code",
   "execution_count": 1,
   "id": "2f3a17b2",
   "metadata": {},
   "outputs": [],
   "source": [
    "import numpy as np"
   ]
  },
  {
   "cell_type": "code",
   "execution_count": 2,
   "id": "a836a8d0",
   "metadata": {},
   "outputs": [],
   "source": [
    "def initialize(dict_network, seed = 99):\n",
    "    np.random.seed(seed)\n",
    "    \n",
    "    for dict_layer in dict_network:        \n",
    "        dim_layer_in = dict_layer['dim_in']\n",
    "        dim_layer_out = dict_layer['dim_out']  \n",
    "        dict_layer['W'] = np.random.uniform(-1, 1, (dim_layer_out, dim_layer_in))\n",
    "        dict_layer['B'] = np.random.uniform(-1, 1, (dim_layer_out, 1))\n",
    "        dict_layer['prev_dW'] = np.zeros((dim_layer_out, dim_layer_in))\n",
    "        dict_layer['prev_dB'] = np.zeros((dim_layer_out,1))\n",
    "        \n",
    "    return dict_network"
   ]
  },
  {
   "cell_type": "code",
   "execution_count": 3,
   "id": "9277387a",
   "metadata": {},
   "outputs": [],
   "source": [
    "def forward_propagation(input_, dict_network):\n",
    "    Z = input_\n",
    "    \n",
    "    for dict_layer in dict_network:\n",
    "\n",
    "        activation = dict_layer['activation']\n",
    "        activation_params = dict_layer['activation_params']\n",
    "        W = dict_layer['W']\n",
    "        B = dict_layer['B'].T.flatten()\n",
    "    \n",
    "        X = Z\n",
    "        dict_layer['X'] = X\n",
    "        \n",
    "        V = np.dot(W, X) + B\n",
    "\n",
    "        if len(activation_params) == 0:\n",
    "            raise Exception('Activation parameter is empty.')   \n",
    "            \n",
    "        elif activation == 'logi':\n",
    "            a = activation_params[0]\n",
    "            Z = 1 / (1 + np.exp(-a*V))\n",
    "            \n",
    "        elif activation == 'tanh':\n",
    "            a = activation_params[0]\n",
    "            c = activation_params[1]\n",
    "            Z = a * np.tanh(c*V)\n",
    "            \n",
    "        elif activation == 'relu':\n",
    "            a = activation_params[0]\n",
    "            Z = np.maximum(V,a*V)\n",
    "            \n",
    "        else:\n",
    "            raise Exception('Activation function is not supported')\n",
    "            \n",
    "        dict_layer['Z'] = Z\n",
    "        dict_layer['V'] = V\n",
    "\n",
    "    return dict_network"
   ]
  },
  {
   "cell_type": "code",
   "execution_count": 4,
   "id": "b0dc5060",
   "metadata": {},
   "outputs": [],
   "source": [
    "def backward_propagation(output_data, dict_network, learning_rate):\n",
    "    \n",
    "    d = output_data    \n",
    "    o = dict_network[-1]['Z']\n",
    "    error = d - o\n",
    "    \n",
    "    for index, dict_layer in reversed(list(enumerate(dict_network))):\n",
    "        \n",
    "        activation = dict_layer['activation']\n",
    "        activation_params = dict_layer['activation_params']\n",
    "        Z = dict_layer['Z']\n",
    "        X = dict_layer['X']\n",
    "        V = dict_layer['V']\n",
    "        W = dict_layer['W']\n",
    "        \n",
    "        if len(activation_params) == 0:\n",
    "            raise Exception('Activation parameter is empty.')      \n",
    "            \n",
    "        elif activation == 'logi':\n",
    "            a = activation_params[0]\n",
    "            dZ =  a * error * Z * (1-Z)\n",
    "            \n",
    "        elif activation == 'tanh':\n",
    "            a = activation_params[0]\n",
    "            c = activation_params[1]\n",
    "            dZ = (c / a) * error * (a - Z) * (a + Z)\n",
    "            \n",
    "        elif activation == 'relu':\n",
    "            a = activation_params[0]\n",
    "            mult = np.where(V > 0, 1, a)\n",
    "            dZ = mult * error\n",
    "            \n",
    "        else:\n",
    "            raise Exception('Activation function is not supported')\n",
    "        \n",
    "        dict_layer['dZ'] = dZ\n",
    "        dW = learning_rate * np.outer(dZ, X)\n",
    "        dict_layer['dW'] = dW\n",
    "        dB = learning_rate * dZ\n",
    "        dict_layer['dB'] = dB\n",
    "        error =  np.dot(dZ, W) \n",
    "        \n",
    "    return dict_network, error"
   ]
  },
  {
   "cell_type": "markdown",
   "id": "48da870e",
   "metadata": {},
   "source": [
    "### Added Functions"
   ]
  },
  {
   "cell_type": "code",
   "execution_count": 5,
   "id": "f0855d02",
   "metadata": {},
   "outputs": [],
   "source": [
    "def update_weights(dict_network, updated_dict_network, delta_weights, delta_biases, momentum):\n",
    "    \n",
    "    for index, dict_layer in enumerate(updated_dict_network):\n",
    "        \n",
    "        W = dict_layer['W']\n",
    "        B = dict_layer['B']\n",
    "        \n",
    "        prev_dW = dict_layer['prev_dW']\n",
    "        prev_dB = dict_layer['prev_dB']\n",
    "        \n",
    "        dW = np.array(delta_weights[index])\n",
    "        dB = np.array(delta_biases[index]).reshape(-1,1)\n",
    "\n",
    "        update_W = W + momentum * prev_dW + dW\n",
    "        update_B = B + momentum * prev_dB + dB\n",
    "\n",
    "        dict_network[index]['W'] = update_W\n",
    "        dict_network[index]['B'] = update_B\n",
    "        \n",
    "        dict_network[index]['prev_dW'] = dW\n",
    "        dict_network[index]['prev_dB'] = dB\n",
    "        \n",
    "    return dict_network"
   ]
  },
  {
   "cell_type": "code",
   "execution_count": 6,
   "id": "378144c4",
   "metadata": {},
   "outputs": [],
   "source": [
    "def one_hot_encoder(value):\n",
    "    \n",
    "    temp_list = [0]*8\n",
    "    temp_list[int(value)-1] = 1\n",
    "    \n",
    "    return temp_list\n",
    "\n",
    "def convert_class(probs):\n",
    "    \n",
    "    probs[probs > 0.5] = 1\n",
    "    probs[probs <= 0.5] = 0\n",
    "    \n",
    "    label = np.argmax(probs) + 1\n",
    "    return label"
   ]
  },
  {
   "cell_type": "code",
   "execution_count": 32,
   "id": "2ceb6d5e",
   "metadata": {},
   "outputs": [],
   "source": [
    "def sgd(dict_network, data, momentum=0.7, learning_rate=0.15, batch_size=8, max_iter=400, seed=1):\n",
    "    \n",
    "    init_dict_network = dict_network # No random values of weights (W) and biases (B), just the general network architecture\n",
    "    upd_dict_network = initialize(dict_network) # Has random values of weights (W) and biases (B)\n",
    "    \n",
    "    for i in range(max_iter):\n",
    "        \n",
    "        actual_label = []\n",
    "        predict_label = []\n",
    "        \n",
    "        np.random.shuffle(data) # Shuffles data\n",
    "        batch_list = np.array_split(data, data.shape[0]/batch_size) # Splits data into batches\n",
    "        \n",
    "        for batch in batch_list:\n",
    "            \n",
    "            dW_list = []\n",
    "            dB_list = []\n",
    "        \n",
    "            sse_batch = 0\n",
    "            \n",
    "            for j in range(len(dict_network)): \n",
    "                dW_list.append([]) # initializes a list of lists where each list in the dW_list corresponds to the dWs of a neural layer\n",
    "                dB_list.append([]) # initializes a list of lists where each list in the dB_list corresponds to the dBs of a neural layer\n",
    "                \n",
    "            for instance in batch:\n",
    "                \n",
    "                X = instance[1:] # features\n",
    "                actual = instance[0] # actual class\n",
    "                Y = one_hot_encoder(actual) # converts actual class to binary \n",
    "                \n",
    "                dict_network = forward_propagation(X, dict_network) # Forward Propagation Function\n",
    "                dict_network, error = backward_propagation(Y, dict_network, learning_rate) # Backward Propagation Function\n",
    "                \n",
    "                for index, dict_layer in enumerate(upd_dict_network): \n",
    "                    dW = dict_layer['dW']\n",
    "                    dB = dict_layer['dB']\n",
    "                    \n",
    "                    dW_list[index].append(dW)\n",
    "                    dB_list[index].append(dB)\n",
    "                \n",
    "                predict = convert_class(upd_dict_network[-1]['Z']) # converts probabilities to predicted class\n",
    "\n",
    "                actual_label.append(int(actual)) # actual class label list\n",
    "                predict_label.append(int(predict)) # predicted class label list\n",
    "            \n",
    "            dW_ave = [np.mean(layer, axis=0).tolist() for layer in dW_list] # averages dW per batch\n",
    "            dB_ave = [np.mean(layer, axis=0).tolist() for layer in dB_list] # averages dB per batch\n",
    "\n",
    "            upd_dict_network = update_weights(init_dict_network, upd_dict_network, dW_ave, dB_ave, momentum) # updates dictionary\n",
    "    \n",
    "    return predict_label, actual_label"
   ]
  },
  {
   "cell_type": "code",
   "execution_count": 33,
   "id": "487e3833",
   "metadata": {},
   "outputs": [],
   "source": [
    "def accuracy(predicted, actual):\n",
    "    correct = 0\n",
    "    \n",
    "    for i in range(len(predicted)):\n",
    "        if predicted[i] == actual[i]:\n",
    "            correct += 1\n",
    " \n",
    "    return correct / len(predicted)"
   ]
  },
  {
   "cell_type": "markdown",
   "id": "8d666c09",
   "metadata": {},
   "source": [
    "### Data"
   ]
  },
  {
   "cell_type": "code",
   "execution_count": 34,
   "id": "65e9848a",
   "metadata": {},
   "outputs": [
    {
     "name": "stdout",
     "output_type": "stream",
     "text": [
      "(3200, 355)\n",
      "Labels: {1, 2, 3, 4, 5, 6, 7, 8}\n",
      "No of Features: 354\n"
     ]
    }
   ],
   "source": [
    "X = np.genfromtxt(\"training_set.csv\", delimiter=\" \", dtype=float)\n",
    "Y_ = np.genfromtxt(\"training_labels.csv\", delimiter=\" \", dtype=int)\n",
    "Y = Y_.reshape(-1, 1)\n",
    "data = np.append(Y, X, axis=1)\n",
    "print(data.shape)\n",
    "print(f'Labels: {set(Y_)}')\n",
    "print(f'No of Features: {int(X.shape[1])}')"
   ]
  },
  {
   "cell_type": "markdown",
   "id": "0c0fecb0",
   "metadata": {},
   "source": [
    "### Initial Network Architecture"
   ]
  },
  {
   "cell_type": "code",
   "execution_count": 35,
   "id": "06406568",
   "metadata": {},
   "outputs": [],
   "source": [
    "'''\n",
    "!!!YOU CAN INPUT ANY NUMBER OF NODES AND LAYERS HERE!!!\n",
    "!!!   JUST ADD A DICTIONARY FOR A LAYER SPECIFICS   !!!\n",
    "!!!   CHANGE DIM_IN FOR NO OF NODES IN PREV LAYER   !!!\n",
    "!!!   CHANGE DIM_OUT FOR NO OF NODES IN CUR LAYER   !!!\n",
    "'''\n",
    "\n",
    "nodes = 5\n",
    "dim_in = int(X.shape[1])\n",
    "dim_out = int(len(set(Y_)))\n",
    "\n",
    "network_A = [\n",
    "    {'dim_in': dim_in,    'dim_out': nodes,      'activation': 'tanh', 'activation_params': [1.716, 2/3]},\n",
    "    {'dim_in': nodes,     'dim_out': nodes,      'activation': 'relu', 'activation_params': [0.01]},\n",
    "    {'dim_in': nodes,     'dim_out': dim_out,    'activation': 'logi', 'activation_params': [2.0]}]"
   ]
  },
  {
   "cell_type": "code",
   "execution_count": 36,
   "id": "a5929ced",
   "metadata": {},
   "outputs": [],
   "source": [
    "predict, actual = sgd(network_A,data)"
   ]
  },
  {
   "cell_type": "code",
   "execution_count": 38,
   "id": "31194308",
   "metadata": {},
   "outputs": [
    {
     "name": "stdout",
     "output_type": "stream",
     "text": [
      "Accuracy: 96.375%\n"
     ]
    }
   ],
   "source": [
    "print(f'Accuracy: {accuracy(predict, actual)*100}%')"
   ]
  }
 ],
 "metadata": {
  "kernelspec": {
   "display_name": "Python 3 (ipykernel)",
   "language": "python",
   "name": "python3"
  },
  "language_info": {
   "codemirror_mode": {
    "name": "ipython",
    "version": 3
   },
   "file_extension": ".py",
   "mimetype": "text/x-python",
   "name": "python",
   "nbconvert_exporter": "python",
   "pygments_lexer": "ipython3",
   "version": "3.10.9"
  }
 },
 "nbformat": 4,
 "nbformat_minor": 5
}
